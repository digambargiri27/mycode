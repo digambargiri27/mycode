{
 "cells": [
  {
   "cell_type": "code",
   "execution_count": null,
   "id": "c7e80dd0-2d3e-4e2c-9a50-6d7227a32f46",
   "metadata": {},
   "outputs": [],
   "source": []
  }
 ],
 "metadata": {
  "kernelspec": {
   "display_name": "",
   "name": ""
  },
  "language_info": {
   "name": ""
  }
 },
 "nbformat": 4,
 "nbformat_minor": 5
}
